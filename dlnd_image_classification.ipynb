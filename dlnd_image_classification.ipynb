{
 "cells": [
  {
   "cell_type": "markdown",
   "metadata": {
    "collapsed": true
   },
   "source": [
    "# 图像分类\n",
    "\n",
    "在此项目中，你将对 [CIFAR-10 数据集](https://www.cs.toronto.edu/~kriz/cifar.html) 中的图片进行分类。该数据集包含飞机、猫狗和其他物体。你需要预处理这些图片，然后用所有样本训练一个卷积神经网络。图片需要**标准化（normalized）**，标签需要采用 **one-hot 编码**。你需要应用所学的知识构建**卷积的、最大池化（max pooling）**、**丢弃（dropout）**和**完全连接（fully connected）**的层。最后，你需要在样本图片上看到神经网络的预测结果。\n",
    "\n",
    "\n",
    "## 获取数据\n",
    "\n",
    "请运行以下单元，以下载 [CIFAR-10 数据集（Python版）](https://www.cs.toronto.edu/~kriz/cifar-10-python.tar.gz)。\n"
   ]
  },
  {
   "cell_type": "code",
   "execution_count": 1,
   "metadata": {},
   "outputs": [
    {
     "name": "stderr",
     "output_type": "stream",
     "text": [
      "CIFAR-10 Dataset: 171MB [01:31, 1.86MB/s]                                                                              \n"
     ]
    },
    {
     "name": "stdout",
     "output_type": "stream",
     "text": [
      "All files found!\n"
     ]
    }
   ],
   "source": [
    "\"\"\"\n",
    "DON'T MODIFY ANYTHING IN THIS CELL THAT IS BELOW THIS LINE\n",
    "\"\"\"\n",
    "from urllib.request import urlretrieve\n",
    "from os.path import isfile, isdir\n",
    "from tqdm import tqdm\n",
    "import problem_unittests as tests\n",
    "import tarfile\n",
    "\n",
    "cifar10_dataset_folder_path = 'cifar-10-batches-py'\n",
    "\n",
    "# Use Floyd's cifar-10 dataset if present\n",
    "floyd_cifar10_location = '/input/cifar-10/python.tar.gz'\n",
    "if isfile(floyd_cifar10_location):\n",
    "    tar_gz_path = floyd_cifar10_location\n",
    "else:\n",
    "    tar_gz_path = 'cifar-10-python.tar.gz'\n",
    "\n",
    "class DLProgress(tqdm):\n",
    "    last_block = 0\n",
    "\n",
    "    def hook(self, block_num=1, block_size=1, total_size=None):\n",
    "        self.total = total_size\n",
    "        self.update((block_num - self.last_block) * block_size)\n",
    "        self.last_block = block_num\n",
    "\n",
    "if not isfile(tar_gz_path):\n",
    "    with DLProgress(unit='B', unit_scale=True, miniters=1, desc='CIFAR-10 Dataset') as pbar:\n",
    "        urlretrieve(\n",
    "            'https://www.cs.toronto.edu/~kriz/cifar-10-python.tar.gz',\n",
    "            tar_gz_path,\n",
    "            pbar.hook)\n",
    "\n",
    "if not isdir(cifar10_dataset_folder_path):\n",
    "    with tarfile.open(tar_gz_path) as tar:\n",
    "        tar.extractall()\n",
    "        tar.close()\n",
    "\n",
    "\n",
    "tests.test_folder_path(cifar10_dataset_folder_path)"
   ]
  },
  {
   "cell_type": "markdown",
   "metadata": {},
   "source": [
    "## 探索数据\n",
    "\n",
    "该数据集分成了几部分／批次（batches），以免你的机器在计算时内存不足。CIFAR-10 数据集包含 5 个部分，名称分别为 `data_batch_1`、`data_batch_2`，以此类推。每个部分都包含以下某个类别的标签和图片：\n",
    "\n",
    "* 飞机\n",
    "* 汽车\n",
    "* 鸟类\n",
    "* 猫\n",
    "* 鹿\n",
    "* 狗\n",
    "* 青蛙\n",
    "* 马\n",
    "* 船只\n",
    "* 卡车\n",
    "\n",
    "了解数据集也是对数据进行预测的必经步骤。你可以通过更改 `batch_id` 和 `sample_id` 探索下面的代码单元。`batch_id` 是数据集一个部分的 ID（1 到 5）。`sample_id` 是该部分中图片和标签对（label pair）的 ID。\n",
    "\n",
    "问问你自己：“可能的标签有哪些？”、“图片数据的值范围是多少？”、“标签是按顺序排列，还是随机排列的？”。思考类似的问题，有助于你预处理数据，并使预测结果更准确。\n"
   ]
  },
  {
   "cell_type": "code",
   "execution_count": 175,
   "metadata": {},
   "outputs": [
    {
     "name": "stdout",
     "output_type": "stream",
     "text": [
      "\n",
      "Stats of batch 1:\n",
      "Samples: 10000\n",
      "Label Counts: {0: 1005, 1: 974, 2: 1032, 3: 1016, 4: 999, 5: 937, 6: 1030, 7: 1001, 8: 1025, 9: 981}\n",
      "First 20 Labels: [6, 9, 9, 4, 1, 1, 2, 7, 8, 3, 4, 7, 7, 2, 9, 9, 9, 3, 2, 6]\n",
      "\n",
      "Example of Image 6:\n",
      "Image - Min Value: 7 Max Value: 249\n",
      "Image - Shape: (32, 32, 3)\n",
      "Label - Label Id: 2 Name: bird\n"
     ]
    },
    {
     "data": {
      "image/png": "[encoded data removed]",
      "text/plain": [
       "<matplotlib.figure.Figure at 0x1f8d3f7d198>"
      ]
     },
     "metadata": {
      "image/png": {
       "height": 250,
       "width": 253
      }
     },
     "output_type": "display_data"
    }
   ],
   "source": [
    "%matplotlib inline\n",
    "%config InlineBackend.figure_format = 'retina'\n",
    "\n",
    "import helper\n",
    "import numpy as np\n",
    "\n",
    "# Explore the dataset\n",
    "batch_id = 1\n",
    "sample_id = 6\n",
    "helper.display_stats(cifar10_dataset_folder_path, batch_id, sample_id)"
   ]
  },
  {
   "cell_type": "markdown",
   "metadata": {},
   "source": [
    "## 实现预处理函数\n",
    "\n",
    "### 标准化\n",
    "\n",
    "在下面的单元中，实现 `normalize` 函数，传入图片数据 `x`，并返回标准化 Numpy 数组。值应该在 0 到 1 的范围内（含 0 和 1）。返回对象应该和 `x` 的形状一样。\n"
   ]
  },
  {
   "cell_type": "code",
   "execution_count": 41,
   "metadata": {},
   "outputs": [
    {
     "name": "stdout",
     "output_type": "stream",
     "text": [
      "Tests Passed\n"
     ]
    }
   ],
   "source": [
    "def normalize(x):\n",
    "    \"\"\"\n",
    "    Normalize a list of sample image data in the range of 0 to 1\n",
    "    : x: List of image data.  The image shape is (32, 32, 3)\n",
    "    : return: Numpy array of normalize data\n",
    "    \"\"\"\n",
    "    # TODO: Implement Function\n",
    "    out = x/255\n",
    "    \n",
    "    return out\n",
    "\n",
    "\n",
    "\"\"\"\n",
    "DON'T MODIFY ANYTHING IN THIS CELL THAT IS BELOW THIS LINE\n",
    "\"\"\"\n",
    "tests.test_normalize(normalize)"
   ]
  },
  {
   "cell_type": "markdown",
   "metadata": {},
   "source": [
    "### One-hot 编码\n",
    "\n",
    "和之前的代码单元一样，你将为预处理实现一个函数。这次，你将实现 `one_hot_encode` 函数。输入，也就是 `x`，是一个标签列表。实现该函数，以返回为 one_hot 编码的 Numpy 数组的标签列表。标签的可能值为 0 到 9。每次调用 `one_hot_encode` 时，对于每个值，one_hot 编码函数应该返回相同的编码。确保将编码映射保存到该函数外面。\n",
    "\n",
    "提示：不要重复发明轮子。\n"
   ]
  },
  {
   "cell_type": "code",
   "execution_count": 42,
   "metadata": {},
   "outputs": [
    {
     "name": "stdout",
     "output_type": "stream",
     "text": [
      "Tests Passed\n"
     ]
    }
   ],
   "source": [
    "def one_hot_encode(x):\n",
    "    \"\"\"\n",
    "    One hot encode a list of sample labels. Return a one-hot encoded vector for each label.\n",
    "    : x: List of sample Labels\n",
    "    : return: Numpy array of one-hot encoded labels\n",
    "    \"\"\"\n",
    "    # TODO: Implement Function\n",
    "    from sklearn import preprocessing\n",
    "    \n",
    "    labels = np.array([0,1,2,3,4,5,6,7,8,9])\n",
    "    lb = preprocessing.LabelBinarizer()\n",
    "    lb.fit(labels)\n",
    "    out = lb.transform(x)\n",
    "    \n",
    "    return out\n",
    "\n",
    "\n",
    "\"\"\"\n",
    "DON'T MODIFY ANYTHING IN THIS CELL THAT IS BELOW THIS LINE\n",
    "\"\"\"\n",
    "tests.test_one_hot_encode(one_hot_encode)"
   ]
  },
  {
   "cell_type": "markdown",
   "metadata": {},
   "source": [
    "### 随机化数据\n",
    "\n",
    "之前探索数据时，你已经了解到，样本的顺序是随机的。再随机化一次也不会有什么关系，但是对于这个数据集没有必要。\n"
   ]
  },
  {
   "cell_type": "markdown",
   "metadata": {},
   "source": [
    "## 预处理所有数据并保存\n",
    "\n",
    "运行下方的代码单元，将预处理所有 CIFAR-10 数据，并保存到文件中。下面的代码还使用了 10% 的训练数据，用来验证。\n"
   ]
  },
  {
   "cell_type": "code",
   "execution_count": 46,
   "metadata": {
    "collapsed": true
   },
   "outputs": [],
   "source": [
    "\"\"\"\n",
    "DON'T MODIFY ANYTHING IN THIS CELL\n",
    "\"\"\"\n",
    "# Preprocess Training, Validation, and Testing Data\n",
    "helper.preprocess_and_save_data(cifar10_dataset_folder_path, normalize, one_hot_encode)"
   ]
  },
  {
   "cell_type": "markdown",
   "metadata": {},
   "source": [
    "# 检查点\n",
    "\n",
    "这是你的第一个检查点。如果你什么时候决定再回到该记事本，或需要重新启动该记事本，你可以从这里开始。预处理的数据已保存到本地。\n"
   ]
  },
  {
   "cell_type": "code",
   "execution_count": 1,
   "metadata": {
    "collapsed": true
   },
   "outputs": [],
   "source": [
    "\"\"\"\n",
    "DON'T MODIFY ANYTHING IN THIS CELL\n",
    "\"\"\"\n",
    "import pickle\n",
    "import problem_unittests as tests\n",
    "import helper\n",
    "\n",
    "# Load the Preprocessed Validation data\n",
    "valid_features, valid_labels = pickle.load(open('preprocess_validation.p', mode='rb'))"
   ]
  },
  {
   "cell_type": "markdown",
   "metadata": {},
   "source": [
    "## 构建网络\n",
    "\n",
    "对于该神经网络，你需要将每层都构建为一个函数。你看到的大部分代码都位于函数外面。要更全面地测试你的代码，我们需要你将每层放入一个函数中。这样使我们能够提供更好的反馈，并使用我们的统一测试检测简单的错误，然后再提交项目。\n",
    "\n",
    ">**注意**：如果你觉得每周很难抽出足够的时间学习这门课程，我们为此项目提供了一个小捷径。对于接下来的几个问题，你可以使用 [TensorFlow Layers](https://www.tensorflow.org/api_docs/python/tf/layers) 或 [TensorFlow Layers (contrib)](https://www.tensorflow.org/api_guides/python/contrib.layers) 程序包中的类来构建每个层级，但是“卷积和最大池化层级”部分的层级除外。TF Layers 和 Keras 及 TFLearn 层级类似，因此很容易学会。\n",
    "\n",
    ">但是，如果你想充分利用这门课程，请尝试自己解决所有问题，不使用 TF Layers 程序包中的任何类。你依然可以使用其他程序包中的类，这些类和你在 TF Layers 中的类名称是一样的！例如，你可以使用 TF Neural Network 版本的 `conv2d` 类 [tf.nn.conv2d](https://www.tensorflow.org/api_docs/python/tf/nn/conv2d)，而不是 TF Layers 版本的 `conv2d` 类 [tf.layers.conv2d](https://www.tensorflow.org/api_docs/python/tf/layers/conv2d)。\n",
    "\n",
    "我们开始吧！\n",
    "\n",
    "\n",
    "### 输入\n",
    "\n",
    "神经网络需要读取图片数据、one-hot 编码标签和丢弃保留概率（dropout keep probability）。请实现以下函数：\n",
    "\n",
    "* 实现 `neural_net_image_input`\n",
    " * 返回 [TF Placeholder](https://www.tensorflow.org/api_docs/python/tf/placeholder)\n",
    " * 使用 `image_shape` 设置形状，部分大小设为 `None`\n",
    " * 使用 [TF Placeholder](https://www.tensorflow.org/api_docs/python/tf/placeholder) 中的 TensorFlow `name` 参数对 TensorFlow 占位符 \"x\" 命名\n",
    "* 实现 `neural_net_label_input`\n",
    " * 返回 [TF Placeholder](https://www.tensorflow.org/api_docs/python/tf/placeholder)\n",
    " * 使用 `n_classes` 设置形状，部分大小设为 `None`\n",
    " * 使用 [TF Placeholder](https://www.tensorflow.org/api_docs/python/tf/placeholder) 中的 TensorFlow `name` 参数对 TensorFlow 占位符 \"y\" 命名\n",
    "* 实现 `neural_net_keep_prob_input`\n",
    " * 返回 [TF Placeholder](https://www.tensorflow.org/api_docs/python/tf/placeholder)，用于丢弃保留概率\n",
    " * 使用 [TF Placeholder](https://www.tensorflow.org/api_docs/python/tf/placeholder) 中的 TensorFlow `name` 参数对 TensorFlow 占位符 \"keep_prob\" 命名\n",
    "\n",
    "这些名称将在项目结束时，用于加载保存的模型。\n",
    "\n",
    "注意：TensorFlow 中的 `None` 表示形状可以是动态大小。"
   ]
  },
  {
   "cell_type": "code",
   "execution_count": 2,
   "metadata": {},
   "outputs": [
    {
     "name": "stdout",
     "output_type": "stream",
     "text": [
      "Image Input Tests Passed.\n",
      "Label Input Tests Passed.\n",
      "Keep Prob Tests Passed.\n"
     ]
    }
   ],
   "source": [
    "import tensorflow as tf\n",
    "\n",
    "def neural_net_image_input(image_shape):\n",
    "    \"\"\"\n",
    "    Return a Tensor for a batch of image input\n",
    "    : image_shape: Shape of the images\n",
    "    : return: Tensor for image input.\n",
    "    \"\"\"\n",
    "    # TODO: Implement Function\n",
    "    out = tf.placeholder(tf.float32,[None,image_shape[0],image_shape[1],image_shape[2]],name='x')\n",
    "    return out\n",
    "\n",
    "\n",
    "def neural_net_label_input(n_classes):\n",
    "    \"\"\"\n",
    "    Return a Tensor for a batch of label input\n",
    "    : n_classes: Number of classes\n",
    "    : return: Tensor for label input.\n",
    "    \"\"\"\n",
    "    # TODO: Implement Function\n",
    "    out = tf.placeholder(tf.float32,[None,n_classes],name='y')\n",
    "    return out\n",
    "\n",
    "\n",
    "def neural_net_keep_prob_input():\n",
    "    \"\"\"\n",
    "    Return a Tensor for keep probability\n",
    "    : return: Tensor for keep probability.\n",
    "    \"\"\"\n",
    "    # TODO: Implement Function\n",
    "    out = tf.placeholder(tf.float32,name='keep_prob')\n",
    "    return out\n",
    "\n",
    "\n",
    "\"\"\"\n",
    "DON'T MODIFY ANYTHING IN THIS CELL THAT IS BELOW THIS LINE\n",
    "\"\"\"\n",
    "tf.reset_default_graph()\n",
    "tests.test_nn_image_inputs(neural_net_image_input)\n",
    "tests.test_nn_label_inputs(neural_net_label_input)\n",
    "tests.test_nn_keep_prob_inputs(neural_net_keep_prob_input)"
   ]
  },
  {
   "cell_type": "markdown",
   "metadata": {},
   "source": [
    "### 卷积和最大池化层\n",
    "\n",
    "卷积层级适合处理图片。对于此代码单元，你应该实现函数 `conv2d_maxpool` 以便应用卷积然后进行最大池化：\n",
    "\n",
    "* 使用 `conv_ksize`、`conv_num_outputs` 和 `x_tensor` 的形状创建权重（weight）和偏置（bias）。\n",
    "* 使用权重和 `conv_strides` 对 `x_tensor` 应用卷积。\n",
    " * 建议使用我们建议的间距（padding），当然也可以使用任何其他间距。\n",
    "* 添加偏置\n",
    "* 向卷积中添加非线性激活（nonlinear activation）\n",
    "* 使用 `pool_ksize` 和 `pool_strides` 应用最大池化\n",
    " * 建议使用我们建议的间距（padding），当然也可以使用任何其他间距。\n",
    "\n",
    "**注意**：对于**此层**，**请勿使用** [TensorFlow Layers](https://www.tensorflow.org/api_docs/python/tf/layers) 或 [TensorFlow Layers (contrib)](https://www.tensorflow.org/api_guides/python/contrib.layers)，但是仍然可以使用 TensorFlow 的 [Neural Network](https://www.tensorflow.org/api_docs/python/tf/nn) 包。对于所有**其他层**，你依然可以使用快捷方法。\n"
   ]
  },
  {
   "cell_type": "code",
   "execution_count": 191,
   "metadata": {},
   "outputs": [
    {
     "name": "stdout",
     "output_type": "stream",
     "text": [
      "Tests Passed\n"
     ]
    }
   ],
   "source": [
    "def conv2d_maxpool(x_tensor, conv_num_outputs, conv_ksize, conv_strides, pool_ksize, pool_strides):\n",
    "    \"\"\"\n",
    "    Apply convolution then max pooling to x_tensor\n",
    "    :param x_tensor: TensorFlow Tensor\n",
    "    :param conv_num_outputs: Number of outputs for the convolutional layer\n",
    "    :param conv_ksize: kernal size 2-D Tuple for the convolutional layer\n",
    "    :param conv_strides: Stride 2-D Tuple for convolution\n",
    "    :param pool_ksize: kernal size 2-D Tuple for pool\n",
    "    :param pool_strides: Stride 2-D Tuple for pool\n",
    "    : return: A tensor that represents convolution and max pooling of x_tensor\n",
    "    \"\"\"\n",
    "    # TODO: Implement Function\n",
    "    _,_,_,color_channels = x_tensor.get_shape()\n",
    "    weight = tf.Variable(tf.truncated_normal([conv_ksize[0],\n",
    "                                              conv_ksize[1],\n",
    "                                              color_channels.value,\n",
    "                                              conv_num_outputs],\n",
    "                                             stddev=0.1))\n",
    "    bias = tf.Variable(tf.zeros(conv_num_outputs))\n",
    "    # Convolution\n",
    "    conv_layer = tf.nn.conv2d(x_tensor,\n",
    "                              weight,\n",
    "                              strides=[1,conv_strides[0],conv_strides[1],1],\n",
    "                              padding='SAME')\n",
    "    conv_layer = tf.nn.bias_add(conv_layer,\n",
    "                                bias)\n",
    "    conv_layer = tf.nn.relu(conv_layer)\n",
    "    # Max pooling\n",
    "    output = tf.nn.max_pool(conv_layer,\n",
    "                            ksize=[1,pool_ksize[0],pool_ksize[1],1],\n",
    "                            strides=[1,pool_strides[0],pool_strides[1],1],\n",
    "                            padding='SAME')\n",
    "    return output\n",
    "\n",
    "\n",
    "\"\"\"\n",
    "DON'T MODIFY ANYTHING IN THIS CELL THAT IS BELOW THIS LINE\n",
    "\"\"\"\n",
    "tests.test_con_pool(conv2d_maxpool)"
   ]
  },
  {
   "cell_type": "markdown",
   "metadata": {},
   "source": [
    "### 扁平化层\n",
    "\n",
    "实现 `flatten` 函数，将 `x_tensor` 的维度从四维张量（4-D tensor）变成二维张量。输出应该是形状（*部分大小（Batch Size）*，*扁平化图片大小（Flattened Image Size）*）。快捷方法：对于此层，你可以使用 [TensorFlow Layers](https://www.tensorflow.org/api_docs/python/tf/layers) 或 [TensorFlow Layers (contrib)](https://www.tensorflow.org/api_guides/python/contrib.layers) 包中的类。如果你想要更大挑战，可以仅使用其他 TensorFlow 程序包。\n"
   ]
  },
  {
   "cell_type": "code",
   "execution_count": 192,
   "metadata": {},
   "outputs": [
    {
     "name": "stdout",
     "output_type": "stream",
     "text": [
      "Tests Passed\n"
     ]
    }
   ],
   "source": [
    "def flatten(x_tensor):\n",
    "    \"\"\"\n",
    "    Flatten x_tensor to (Batch Size, Flattened Image Size)\n",
    "    : x_tensor: A tensor of size (Batch Size, ...), where ... are the image dimensions.\n",
    "    : return: A tensor of size (Batch Size, Flattened Image Size).\n",
    "    \"\"\"\n",
    "    # TODO: Implement Function\n",
    "    batch,height,width,channels = x_tensor.get_shape()\n",
    "    flat_size = height.value * width.value * channels.value\n",
    "    output = tf.reshape(x_tensor,\n",
    "                        [-1,flat_size])\n",
    "    return output\n",
    "\n",
    "\n",
    "\"\"\"\n",
    "DON'T MODIFY ANYTHING IN THIS CELL THAT IS BELOW THIS LINE\n",
    "\"\"\"\n",
    "tests.test_flatten(flatten)"
   ]
  },
  {
   "cell_type": "markdown",
   "metadata": {},
   "source": [
    "### 全连接层\n",
    "\n",
    "实现 `fully_conn` 函数，以向 `x_tensor` 应用完全连接的层级，形状为（*部分大小（Batch Size）*，*num_outputs*）。快捷方法：对于此层，你可以使用 [TensorFlow Layers](https://www.tensorflow.org/api_docs/python/tf/layers) 或 [TensorFlow Layers (contrib)](https://www.tensorflow.org/api_guides/python/contrib.layers) 包中的类。如果你想要更大挑战，可以仅使用其他 TensorFlow 程序包。"
   ]
  },
  {
   "cell_type": "code",
   "execution_count": 193,
   "metadata": {},
   "outputs": [
    {
     "name": "stdout",
     "output_type": "stream",
     "text": [
      "Tests Passed\n"
     ]
    }
   ],
   "source": [
    "def fully_conn(x_tensor, num_outputs):\n",
    "    \"\"\"\n",
    "    Apply a fully connected layer to x_tensor using weight and bias\n",
    "    : x_tensor: A 2-D tensor where the first dimension is batch size.\n",
    "    : num_outputs: The number of output that the new tensor should be.\n",
    "    : return: A 2-D tensor where the second dimension is num_outputs.\n",
    "    \"\"\"\n",
    "    # TODO: Implement Function\n",
    "    _,hidden_input = x_tensor.get_shape()\n",
    "    hidden_weight = tf.Variable(tf.random_normal([hidden_input.value,num_outputs],\n",
    "                                                 stddev=0.1))\n",
    "    hidden_bias = tf.Variable(tf.zeros(num_outputs))\n",
    "    output = tf.add(tf.matmul(x_tensor,\n",
    "                              hidden_weight),\n",
    "                    hidden_bias)\n",
    "    output = tf.nn.relu(output)\n",
    "    return output\n",
    "\n",
    "\n",
    "\"\"\"\n",
    "DON'T MODIFY ANYTHING IN THIS CELL THAT IS BELOW THIS LINE\n",
    "\"\"\"\n",
    "tests.test_fully_conn(fully_conn)"
   ]
  },
  {
   "cell_type": "markdown",
   "metadata": {},
   "source": [
    "### 输出层\n",
    "\n",
    "实现 `output` 函数，向 x_tensor 应用完全连接的层级，形状为（*部分大小（Batch Size）*，*num_outputs*）。快捷方法：对于此层，你可以使用 [TensorFlow Layers](https://www.tensorflow.org/api_docs/python/tf/layers) 或 [TensorFlow Layers (contrib)](https://www.tensorflow.org/api_guides/python/contrib.layers) 包中的类。如果你想要更大挑战，可以仅使用其他 TensorFlow 程序包。\n",
    "\n",
    "**注意**：该层级不应应用 Activation、softmax 或交叉熵（cross entropy）。"
   ]
  },
  {
   "cell_type": "code",
   "execution_count": 194,
   "metadata": {},
   "outputs": [
    {
     "name": "stdout",
     "output_type": "stream",
     "text": [
      "Tests Passed\n"
     ]
    }
   ],
   "source": [
    "def output(x_tensor, num_outputs):\n",
    "    \"\"\"\n",
    "    Apply a output layer to x_tensor using weight and bias\n",
    "    : x_tensor: A 2-D tensor where the first dimension is batch size.\n",
    "    : num_outputs: The number of output that the new tensor should be.\n",
    "    : return: A 2-D tensor where the second dimension is num_outputs.\n",
    "    \"\"\"\n",
    "    # TODO: Implement Function\n",
    "    _,hidden_input = x_tensor.get_shape()\n",
    "    output_weight = tf.Variable(tf.random_normal([hidden_input.value,num_outputs],\n",
    "                                                 stddev=0.1))\n",
    "    output_bias = tf.Variable(tf.zeros(num_outputs))\n",
    "    output = tf.add(tf.matmul(x_tensor,\n",
    "                              output_weight),\n",
    "                    output_bias)\n",
    "    return output\n",
    "\n",
    "\n",
    "\"\"\"\n",
    "DON'T MODIFY ANYTHING IN THIS CELL THAT IS BELOW THIS LINE\n",
    "\"\"\"\n",
    "tests.test_output(output)"
   ]
  },
  {
   "cell_type": "markdown",
   "metadata": {},
   "source": [
    "### 创建卷积模型\n",
    "\n",
    "实现函数 `conv_net`， 创建卷积神经网络模型。该函数传入一批图片 `x`，并输出对数（logits）。使用你在上方创建的层创建此模型：\n",
    "\n",
    "* 应用 1、2 或 3 个卷积和最大池化层（Convolution and Max Pool layers）\n",
    "* 应用一个扁平层（Flatten Layer）\n",
    "* 应用 1、2 或 3 个完全连接层（Fully Connected Layers）\n",
    "* 应用一个输出层（Output Layer）\n",
    "* 返回输出\n",
    "* 使用 `keep_prob` 向模型中的一个或多个层应用 [TensorFlow 的 Dropout](https://www.tensorflow.org/api_docs/python/tf/nn/dropout)"
   ]
  },
  {
   "cell_type": "code",
   "execution_count": 195,
   "metadata": {},
   "outputs": [
    {
     "name": "stdout",
     "output_type": "stream",
     "text": [
      "Neural Network Built!\n"
     ]
    }
   ],
   "source": [
    "def conv_net(x, keep_prob):\n",
    "    \"\"\"\n",
    "    Create a convolutional neural network model\n",
    "    : x: Placeholder tensor that holds image data.\n",
    "    : keep_prob: Placeholder tensor that hold dropout keep probability.\n",
    "    : return: Tensor that represents logits\n",
    "    \"\"\"\n",
    "    # TODO: Apply 1, 2, or 3 Convolution and Max Pool layers\n",
    "    #    Play around with different number of outputs, kernel size and stride\n",
    "    # Function Definition from Above:\n",
    "    #    conv2d_maxpool(x_tensor, conv_num_outputs, conv_ksize, conv_strides, pool_ksize, pool_strides)\n",
    "    conv_num_outputs = 64\n",
    "    conv_ksize = (4,4)\n",
    "    conv_strides = (2,2)\n",
    "    pool_ksize = (2,2)\n",
    "    pool_strides = (2,2)\n",
    "    conv_layer = conv2d_maxpool(x, conv_num_outputs, conv_ksize, conv_strides, pool_ksize, pool_strides)\n",
    "\n",
    "    # TODO: Apply a Flatten Layer\n",
    "    # Function Definition from Above:\n",
    "    #   flatten(x_tensor)\n",
    "    flat_layer = flatten(conv_layer)\n",
    "\n",
    "    # TODO: Apply 1, 2, or 3 Fully Connected Layers\n",
    "    #    Play around with different number of outputs\n",
    "    # Function Definition from Above:\n",
    "    #   fully_conn(x_tensor, num_outputs)\n",
    "    num_outputs = 32\n",
    "    fc_layer = fully_conn(flat_layer, num_outputs)\n",
    "    fc_layer = tf.nn.dropout(fc_layer,keep_prob)\n",
    "    \n",
    "    # TODO: Apply an Output Layer\n",
    "    #    Set this to the number of classes\n",
    "    # Function Definition from Above:\n",
    "    #   output(x_tensor, num_outputs)\n",
    "    num_outputs = 10\n",
    "    output_layer = output(fc_layer, num_outputs)\n",
    "    \n",
    "    # TODO: return output\n",
    "    return output_layer\n",
    "\n",
    "\n",
    "\"\"\"\n",
    "DON'T MODIFY ANYTHING IN THIS CELL THAT IS BELOW THIS LINE\n",
    "\"\"\"\n",
    "\n",
    "##############################\n",
    "## Build the Neural Network ##\n",
    "##############################\n",
    "\n",
    "# Remove previous weights, bias, inputs, etc..\n",
    "tf.reset_default_graph()\n",
    "\n",
    "# Inputs\n",
    "x = neural_net_image_input((32, 32, 3))\n",
    "y = neural_net_label_input(10)\n",
    "keep_prob = neural_net_keep_prob_input()\n",
    "\n",
    "# Model\n",
    "logits = conv_net(x, keep_prob)\n",
    "\n",
    "# Name logits Tensor, so that is can be loaded from disk after training\n",
    "logits = tf.identity(logits, name='logits')\n",
    "\n",
    "# Loss and Optimizer\n",
    "cost = tf.reduce_mean(tf.nn.softmax_cross_entropy_with_logits(logits=logits, labels=y))\n",
    "optimizer = tf.train.AdamOptimizer().minimize(cost)\n",
    "\n",
    "# Accuracy\n",
    "correct_pred = tf.equal(tf.argmax(logits, 1), tf.argmax(y, 1))\n",
    "accuracy = tf.reduce_mean(tf.cast(correct_pred, tf.float32), name='accuracy')\n",
    "\n",
    "tests.test_conv_net(conv_net)"
   ]
  },
  {
   "cell_type": "markdown",
   "metadata": {},
   "source": [
    "## 训练神经网络\n",
    "\n",
    "### 单次优化\n",
    "\n",
    "实现函数 `train_neural_network` 以进行单次优化（single optimization）。该优化应该使用 `optimizer` 优化 `session`，其中 `feed_dict` 具有以下参数：\n",
    "\n",
    "* `x` 表示图片输入\n",
    "* `y` 表示标签\n",
    "* `keep_prob` 表示丢弃的保留率\n",
    "\n",
    "每个部分都会调用该函数，所以 `tf.global_variables_initializer()` 已经被调用。\n",
    "\n",
    "注意：不需要返回任何内容。该函数只是用来优化神经网络。\n"
   ]
  },
  {
   "cell_type": "code",
   "execution_count": 196,
   "metadata": {},
   "outputs": [
    {
     "name": "stdout",
     "output_type": "stream",
     "text": [
      "Tests Passed\n"
     ]
    }
   ],
   "source": [
    "def train_neural_network(session, optimizer, keep_probability, feature_batch, label_batch):\n",
    "    \"\"\"\n",
    "    Optimize the session on a batch of images and labels\n",
    "    : session: Current TensorFlow session\n",
    "    : optimizer: TensorFlow optimizer function\n",
    "    : keep_probability: keep probability\n",
    "    : feature_batch: Batch of Numpy image data\n",
    "    : label_batch: Batch of Numpy label data\n",
    "    \"\"\"\n",
    "    # TODO: Implement Function\n",
    "    session.run(optimizer,\n",
    "                feed_dict={x:feature_batch,\n",
    "                           y:label_batch,\n",
    "                           keep_prob:keep_probability})\n",
    "\n",
    "\n",
    "\"\"\"\n",
    "DON'T MODIFY ANYTHING IN THIS CELL THAT IS BELOW THIS LINE\n",
    "\"\"\"\n",
    "tests.test_train_nn(train_neural_network)"
   ]
  },
  {
   "cell_type": "markdown",
   "metadata": {},
   "source": [
    "### 显示数据\n",
    "\n",
    "实现函数 `print_stats` 以输出损失和验证准确率。使用全局变量 `valid_features` 和 `valid_labels` 计算验证准确率。使用保留率 `1.0` 计算损失和验证准确率（loss and validation accuracy）。\n"
   ]
  },
  {
   "cell_type": "code",
   "execution_count": 197,
   "metadata": {
    "collapsed": true
   },
   "outputs": [],
   "source": [
    "def print_stats(session, feature_batch, label_batch, cost, accuracy):\n",
    "    \"\"\"\n",
    "    Print information about loss and validation accuracy\n",
    "    : session: Current TensorFlow session\n",
    "    : feature_batch: Batch of Numpy image data\n",
    "    : label_batch: Batch of Numpy label data\n",
    "    : cost: TensorFlow cost function\n",
    "    : accuracy: TensorFlow accuracy function\n",
    "    \"\"\"\n",
    "    # TODO: Implement Function\n",
    "    keep_probability = 1.0\n",
    "    loss = session.run(cost,\n",
    "                       feed_dict={x:feature_batch,\n",
    "                                  y:label_batch,\n",
    "                                  keep_prob:keep_probability})\n",
    "    valid_accuracy = session.run(accuracy,\n",
    "                                 feed_dict={x:feature_batch,\n",
    "                                            y:label_batch,\n",
    "                                            keep_prob:keep_probability})\n",
    "    print('loss:{} validation accuracy:{}'.format(loss,valid_accuracy))"
   ]
  },
  {
   "cell_type": "markdown",
   "metadata": {},
   "source": [
    "### 超参数\n",
    "\n",
    "调试以下超参数：\n",
    "* 设置 `epochs` 表示神经网络停止学习或开始过拟合的迭代次数\n",
    "* 设置 `batch_size`，表示机器内存允许的部分最大体积。大部分人设为以下常见内存大小：\n",
    "\n",
    " * 64\n",
    " * 128\n",
    " * 256\n",
    " * ...\n",
    "* 设置 `keep_probability` 表示使用丢弃时保留节点的概率"
   ]
  },
  {
   "cell_type": "code",
   "execution_count": 212,
   "metadata": {
    "collapsed": true
   },
   "outputs": [],
   "source": [
    "# TODO: Tune Parameters\n",
    "epochs = 30\n",
    "batch_size = 512\n",
    "keep_probability = 0.7"
   ]
  },
  {
   "cell_type": "markdown",
   "metadata": {},
   "source": [
    "### 在单个 CIFAR-10 部分上训练\n",
    "\n",
    "我们先用单个部分，而不是用所有的 CIFAR-10 批次训练神经网络。这样可以节省时间，并对模型进行迭代，以提高准确率。最终验证准确率达到 50% 或以上之后，在下一部分对所有数据运行模型。\n"
   ]
  },
  {
   "cell_type": "code",
   "execution_count": 213,
   "metadata": {},
   "outputs": [
    {
     "name": "stdout",
     "output_type": "stream",
     "text": [
      "Checking the Training on a Single Batch...\n",
      "Epoch  1, CIFAR-10 Batch 1:  loss:2.226886749267578 validation accuracy:0.17229729890823364\n",
      "Epoch  2, CIFAR-10 Batch 1:  loss:2.1049447059631348 validation accuracy:0.27027028799057007\n",
      "Epoch  3, CIFAR-10 Batch 1:  loss:1.981603980064392 validation accuracy:0.31418922543525696\n",
      "Epoch  4, CIFAR-10 Batch 1:  loss:1.9095135927200317 validation accuracy:0.3378378450870514\n",
      "Epoch  5, CIFAR-10 Batch 1:  loss:1.8422036170959473 validation accuracy:0.36486488580703735\n",
      "Epoch  6, CIFAR-10 Batch 1:  loss:1.7902662754058838 validation accuracy:0.39527028799057007\n",
      "Epoch  7, CIFAR-10 Batch 1:  loss:1.7387545108795166 validation accuracy:0.42229732871055603\n",
      "Epoch  8, CIFAR-10 Batch 1:  loss:1.7016441822052002 validation accuracy:0.412162184715271\n",
      "Epoch  9, CIFAR-10 Batch 1:  loss:1.65981924533844 validation accuracy:0.4729730188846588\n",
      "Epoch 10, CIFAR-10 Batch 1:  loss:1.6340868473052979 validation accuracy:0.4797297716140747\n",
      "Epoch 11, CIFAR-10 Batch 1:  loss:1.5906751155853271 validation accuracy:0.4797297418117523\n",
      "Epoch 12, CIFAR-10 Batch 1:  loss:1.5655028820037842 validation accuracy:0.4628378748893738\n",
      "Epoch 13, CIFAR-10 Batch 1:  loss:1.5423107147216797 validation accuracy:0.4729729890823364\n",
      "Epoch 14, CIFAR-10 Batch 1:  loss:1.519202470779419 validation accuracy:0.5236486792564392\n",
      "Epoch 15, CIFAR-10 Batch 1:  loss:1.5001611709594727 validation accuracy:0.4932432472705841\n",
      "Epoch 16, CIFAR-10 Batch 1:  loss:1.472854733467102 validation accuracy:0.5168919563293457\n",
      "Epoch 17, CIFAR-10 Batch 1:  loss:1.4660667181015015 validation accuracy:0.5506757497787476\n",
      "Epoch 18, CIFAR-10 Batch 1:  loss:1.428926706314087 validation accuracy:0.5304054021835327\n",
      "Epoch 19, CIFAR-10 Batch 1:  loss:1.4074859619140625 validation accuracy:0.5405405759811401\n",
      "Epoch 20, CIFAR-10 Batch 1:  loss:1.3961119651794434 validation accuracy:0.5709459781646729\n",
      "Epoch 21, CIFAR-10 Batch 1:  loss:1.3940823078155518 validation accuracy:0.5405405759811401\n",
      "Epoch 22, CIFAR-10 Batch 1:  loss:1.3669925928115845 validation accuracy:0.5540540814399719\n",
      "Epoch 23, CIFAR-10 Batch 1:  loss:1.3448219299316406 validation accuracy:0.5641891956329346\n",
      "Epoch 24, CIFAR-10 Batch 1:  loss:1.332559585571289 validation accuracy:0.5912162661552429\n",
      "Epoch 25, CIFAR-10 Batch 1:  loss:1.3304195404052734 validation accuracy:0.5675675868988037\n",
      "Epoch 26, CIFAR-10 Batch 1:  loss:1.3127285242080688 validation accuracy:0.5709459781646729\n",
      "Epoch 27, CIFAR-10 Batch 1:  loss:1.3078199625015259 validation accuracy:0.5641891956329346\n",
      "Epoch 28, CIFAR-10 Batch 1:  loss:1.2728819847106934 validation accuracy:0.6114864945411682\n",
      "Epoch 29, CIFAR-10 Batch 1:  loss:1.263087272644043 validation accuracy:0.6114864945411682\n",
      "Epoch 30, CIFAR-10 Batch 1:  loss:1.2618696689605713 validation accuracy:0.6182432174682617\n"
     ]
    }
   ],
   "source": [
    "\"\"\"\n",
    "DON'T MODIFY ANYTHING IN THIS CELL\n",
    "\"\"\"\n",
    "print('Checking the Training on a Single Batch...')\n",
    "with tf.Session() as sess:\n",
    "    # Initializing the variables\n",
    "    sess.run(tf.global_variables_initializer())\n",
    "    \n",
    "    # Training cycle\n",
    "    for epoch in range(epochs):\n",
    "        batch_i = 1\n",
    "        for batch_features, batch_labels in helper.load_preprocess_training_batch(batch_i, batch_size):\n",
    "            train_neural_network(sess, optimizer, keep_probability, batch_features, batch_labels)\n",
    "        print('Epoch {:>2}, CIFAR-10 Batch {}:  '.format(epoch + 1, batch_i), end='')\n",
    "        print_stats(sess, batch_features, batch_labels, cost, accuracy)"
   ]
  },
  {
   "cell_type": "markdown",
   "metadata": {},
   "source": [
    "### 完全训练模型\n",
    "\n",
    "现在，单个 CIFAR-10 部分的准确率已经不错了，试试所有五个部分吧。"
   ]
  },
  {
   "cell_type": "code",
   "execution_count": 214,
   "metadata": {},
   "outputs": [
    {
     "name": "stdout",
     "output_type": "stream",
     "text": [
      "Training...\n",
      "Epoch  1, CIFAR-10 Batch 1:  loss:2.118891716003418 validation accuracy:0.22297297418117523\n",
      "Epoch  1, CIFAR-10 Batch 2:  loss:1.9798260927200317 validation accuracy:0.3006756901741028\n",
      "Epoch  1, CIFAR-10 Batch 3:  loss:1.8657160997390747 validation accuracy:0.36486491560935974\n",
      "Epoch  1, CIFAR-10 Batch 4:  loss:1.7773991823196411 validation accuracy:0.42567571997642517\n",
      "Epoch  1, CIFAR-10 Batch 5:  loss:1.7727431058883667 validation accuracy:0.3885135352611542\n",
      "Epoch  2, CIFAR-10 Batch 1:  loss:1.7574119567871094 validation accuracy:0.40202707052230835\n",
      "Epoch  2, CIFAR-10 Batch 2:  loss:1.6924949884414673 validation accuracy:0.40878379344940186\n",
      "Epoch  2, CIFAR-10 Batch 3:  loss:1.5212295055389404 validation accuracy:0.5472972989082336\n",
      "Epoch  2, CIFAR-10 Batch 4:  loss:1.534125566482544 validation accuracy:0.4560811221599579\n",
      "Epoch  2, CIFAR-10 Batch 5:  loss:1.58793306350708 validation accuracy:0.4695946276187897\n",
      "Epoch  3, CIFAR-10 Batch 1:  loss:1.6003984212875366 validation accuracy:0.4662162661552429\n",
      "Epoch  3, CIFAR-10 Batch 2:  loss:1.5480899810791016 validation accuracy:0.45945948362350464\n",
      "Epoch  3, CIFAR-10 Batch 3:  loss:1.3595787286758423 validation accuracy:0.5608108639717102\n",
      "Epoch  3, CIFAR-10 Batch 4:  loss:1.421249270439148 validation accuracy:0.47297292947769165\n",
      "Epoch  3, CIFAR-10 Batch 5:  loss:1.4862079620361328 validation accuracy:0.5067567825317383\n",
      "Epoch  4, CIFAR-10 Batch 1:  loss:1.5031404495239258 validation accuracy:0.5033783912658691\n",
      "Epoch  4, CIFAR-10 Batch 2:  loss:1.4235968589782715 validation accuracy:0.5067567825317383\n",
      "Epoch  4, CIFAR-10 Batch 3:  loss:1.2548627853393555 validation accuracy:0.5810810923576355\n",
      "Epoch  4, CIFAR-10 Batch 4:  loss:1.3210229873657227 validation accuracy:0.5033784508705139\n",
      "Epoch  4, CIFAR-10 Batch 5:  loss:1.3788952827453613 validation accuracy:0.537162184715271\n",
      "Epoch  5, CIFAR-10 Batch 1:  loss:1.4411216974258423 validation accuracy:0.48310813307762146\n",
      "Epoch  5, CIFAR-10 Batch 2:  loss:1.3492435216903687 validation accuracy:0.537162184715271\n",
      "Epoch  5, CIFAR-10 Batch 3:  loss:1.2139302492141724 validation accuracy:0.5979729890823364\n",
      "Epoch  5, CIFAR-10 Batch 4:  loss:1.2605628967285156 validation accuracy:0.5337837934494019\n",
      "Epoch  5, CIFAR-10 Batch 5:  loss:1.3102030754089355 validation accuracy:0.5506756901741028\n",
      "Epoch  6, CIFAR-10 Batch 1:  loss:1.3877652883529663 validation accuracy:0.5405405759811401\n",
      "Epoch  6, CIFAR-10 Batch 2:  loss:1.300978660583496 validation accuracy:0.5405405759811401\n",
      "Epoch  6, CIFAR-10 Batch 3:  loss:1.1660397052764893 validation accuracy:0.6013514399528503\n",
      "Epoch  6, CIFAR-10 Batch 4:  loss:1.2143354415893555 validation accuracy:0.5641891956329346\n",
      "Epoch  6, CIFAR-10 Batch 5:  loss:1.272963047027588 validation accuracy:0.574324369430542\n",
      "Epoch  7, CIFAR-10 Batch 1:  loss:1.3353873491287231 validation accuracy:0.537162184715271\n",
      "Epoch  7, CIFAR-10 Batch 2:  loss:1.2518588304519653 validation accuracy:0.5506756901741028\n",
      "Epoch  7, CIFAR-10 Batch 3:  loss:1.1248905658721924 validation accuracy:0.6216216087341309\n",
      "Epoch  7, CIFAR-10 Batch 4:  loss:1.160393238067627 validation accuracy:0.5945945978164673\n",
      "Epoch  7, CIFAR-10 Batch 5:  loss:1.233447551727295 validation accuracy:0.5810810923576355\n",
      "Epoch  8, CIFAR-10 Batch 1:  loss:1.3088228702545166 validation accuracy:0.5641891956329346\n",
      "Epoch  8, CIFAR-10 Batch 2:  loss:1.215029239654541 validation accuracy:0.5641891956329346\n",
      "Epoch  8, CIFAR-10 Batch 3:  loss:1.0866042375564575 validation accuracy:0.6148649454116821\n",
      "Epoch  8, CIFAR-10 Batch 4:  loss:1.1332930326461792 validation accuracy:0.611486554145813\n",
      "Epoch  8, CIFAR-10 Batch 5:  loss:1.1936898231506348 validation accuracy:0.5878378748893738\n",
      "Epoch  9, CIFAR-10 Batch 1:  loss:1.2806757688522339 validation accuracy:0.5709459781646729\n",
      "Epoch  9, CIFAR-10 Batch 2:  loss:1.1815835237503052 validation accuracy:0.5675675868988037\n",
      "Epoch  9, CIFAR-10 Batch 3:  loss:1.0570509433746338 validation accuracy:0.6418919563293457\n",
      "Epoch  9, CIFAR-10 Batch 4:  loss:1.095976710319519 validation accuracy:0.6317567825317383\n",
      "Epoch  9, CIFAR-10 Batch 5:  loss:1.1474294662475586 validation accuracy:0.5878378748893738\n",
      "Epoch 10, CIFAR-10 Batch 1:  loss:1.252981424331665 validation accuracy:0.5844594836235046\n",
      "Epoch 10, CIFAR-10 Batch 2:  loss:1.146804690361023 validation accuracy:0.574324369430542\n",
      "Epoch 10, CIFAR-10 Batch 3:  loss:1.0323058366775513 validation accuracy:0.6351351737976074\n",
      "Epoch 10, CIFAR-10 Batch 4:  loss:1.079018473625183 validation accuracy:0.6216216087341309\n",
      "Epoch 10, CIFAR-10 Batch 5:  loss:1.123599886894226 validation accuracy:0.6081081628799438\n",
      "Epoch 11, CIFAR-10 Batch 1:  loss:1.227933406829834 validation accuracy:0.5844594836235046\n",
      "Epoch 11, CIFAR-10 Batch 2:  loss:1.1245783567428589 validation accuracy:0.5945945978164673\n",
      "Epoch 11, CIFAR-10 Batch 3:  loss:1.0154870748519897 validation accuracy:0.6520270109176636\n",
      "Epoch 11, CIFAR-10 Batch 4:  loss:1.0449445247650146 validation accuracy:0.6317567825317383\n",
      "Epoch 11, CIFAR-10 Batch 5:  loss:1.0969165563583374 validation accuracy:0.6351351737976074\n",
      "Epoch 12, CIFAR-10 Batch 1:  loss:1.1906245946884155 validation accuracy:0.6148648858070374\n",
      "Epoch 12, CIFAR-10 Batch 2:  loss:1.1050091981887817 validation accuracy:0.611486554145813\n",
      "Epoch 12, CIFAR-10 Batch 3:  loss:0.9890754222869873 validation accuracy:0.6722973585128784\n",
      "Epoch 12, CIFAR-10 Batch 4:  loss:1.005009412765503 validation accuracy:0.6722972989082336\n",
      "Epoch 12, CIFAR-10 Batch 5:  loss:1.060306191444397 validation accuracy:0.6452703475952148\n",
      "Epoch 13, CIFAR-10 Batch 1:  loss:1.1588106155395508 validation accuracy:0.6047297716140747\n",
      "Epoch 13, CIFAR-10 Batch 2:  loss:1.0477616786956787 validation accuracy:0.6216216683387756\n",
      "Epoch 13, CIFAR-10 Batch 3:  loss:0.9645358920097351 validation accuracy:0.6756756901741028\n",
      "Epoch 13, CIFAR-10 Batch 4:  loss:0.9880012273788452 validation accuracy:0.6790540814399719\n",
      "Epoch 13, CIFAR-10 Batch 5:  loss:1.02225923538208 validation accuracy:0.6554054617881775\n",
      "Epoch 14, CIFAR-10 Batch 1:  loss:1.144193410873413 validation accuracy:0.6081081628799438\n",
      "Epoch 14, CIFAR-10 Batch 2:  loss:1.07272469997406 validation accuracy:0.6114864945411682\n",
      "Epoch 14, CIFAR-10 Batch 3:  loss:0.9361932277679443 validation accuracy:0.6891891956329346\n",
      "Epoch 14, CIFAR-10 Batch 4:  loss:0.9618048071861267 validation accuracy:0.6858108043670654\n",
      "Epoch 14, CIFAR-10 Batch 5:  loss:0.9946160316467285 validation accuracy:0.6587837934494019\n",
      "Epoch 15, CIFAR-10 Batch 1:  loss:1.106372594833374 validation accuracy:0.6385135054588318\n",
      "Epoch 15, CIFAR-10 Batch 2:  loss:1.0034433603286743 validation accuracy:0.6317567825317383\n",
      "Epoch 15, CIFAR-10 Batch 3:  loss:0.9358829855918884 validation accuracy:0.6858108639717102\n",
      "Epoch 15, CIFAR-10 Batch 4:  loss:0.9451920390129089 validation accuracy:0.6722972989082336\n",
      "Epoch 15, CIFAR-10 Batch 5:  loss:0.9780333042144775 validation accuracy:0.6655405759811401\n",
      "Epoch 16, CIFAR-10 Batch 1:  loss:1.0925101041793823 validation accuracy:0.625\n",
      "Epoch 16, CIFAR-10 Batch 2:  loss:0.9989737272262573 validation accuracy:0.6385135054588318\n",
      "Epoch 16, CIFAR-10 Batch 3:  loss:0.9132369756698608 validation accuracy:0.6858108639717102\n",
      "Epoch 16, CIFAR-10 Batch 4:  loss:0.9234971404075623 validation accuracy:0.7060811519622803\n",
      "Epoch 16, CIFAR-10 Batch 5:  loss:0.9446425437927246 validation accuracy:0.6790540814399719\n",
      "Epoch 17, CIFAR-10 Batch 1:  loss:1.0823485851287842 validation accuracy:0.6452702879905701\n",
      "Epoch 17, CIFAR-10 Batch 2:  loss:0.9677078127861023 validation accuracy:0.6520270705223083\n",
      "Epoch 17, CIFAR-10 Batch 3:  loss:0.8879027366638184 validation accuracy:0.7094594836235046\n",
      "Epoch 17, CIFAR-10 Batch 4:  loss:0.9041000604629517 validation accuracy:0.712837815284729\n",
      "Epoch 17, CIFAR-10 Batch 5:  loss:0.9351022243499756 validation accuracy:0.6722972989082336\n",
      "Epoch 18, CIFAR-10 Batch 1:  loss:1.0707788467407227 validation accuracy:0.6317567825317383\n",
      "Epoch 18, CIFAR-10 Batch 2:  loss:0.9499771595001221 validation accuracy:0.6824324131011963\n",
      "Epoch 18, CIFAR-10 Batch 3:  loss:0.8929832577705383 validation accuracy:0.6891891956329346\n",
      "Epoch 18, CIFAR-10 Batch 4:  loss:0.89250648021698 validation accuracy:0.7094594836235046\n",
      "Epoch 18, CIFAR-10 Batch 5:  loss:0.9100825786590576 validation accuracy:0.6858108639717102\n"
     ]
    },
    {
     "name": "stdout",
     "output_type": "stream",
     "text": [
      "Epoch 19, CIFAR-10 Batch 1:  loss:1.0221905708312988 validation accuracy:0.662162184715271\n",
      "Epoch 19, CIFAR-10 Batch 2:  loss:0.9323039650917053 validation accuracy:0.6722973585128784\n",
      "Epoch 19, CIFAR-10 Batch 3:  loss:0.8887922763824463 validation accuracy:0.712837815284729\n",
      "Epoch 19, CIFAR-10 Batch 4:  loss:0.8834683895111084 validation accuracy:0.7297297716140747\n",
      "Epoch 19, CIFAR-10 Batch 5:  loss:0.8976494073867798 validation accuracy:0.6925675868988037\n",
      "Epoch 20, CIFAR-10 Batch 1:  loss:0.9998250007629395 validation accuracy:0.6756756901741028\n",
      "Epoch 20, CIFAR-10 Batch 2:  loss:0.8984378576278687 validation accuracy:0.6858108639717102\n",
      "Epoch 20, CIFAR-10 Batch 3:  loss:0.8592694401741028 validation accuracy:0.7094594836235046\n",
      "Epoch 20, CIFAR-10 Batch 4:  loss:0.8546288013458252 validation accuracy:0.7162162065505981\n",
      "Epoch 20, CIFAR-10 Batch 5:  loss:0.8732136487960815 validation accuracy:0.7162162065505981\n",
      "Epoch 21, CIFAR-10 Batch 1:  loss:1.0016944408416748 validation accuracy:0.6689189672470093\n",
      "Epoch 21, CIFAR-10 Batch 2:  loss:0.8984261751174927 validation accuracy:0.6959459781646729\n",
      "Epoch 21, CIFAR-10 Batch 3:  loss:0.8497227430343628 validation accuracy:0.7331081032752991\n",
      "Epoch 21, CIFAR-10 Batch 4:  loss:0.839220404624939 validation accuracy:0.7331081032752991\n",
      "Epoch 21, CIFAR-10 Batch 5:  loss:0.8693215847015381 validation accuracy:0.7128378748893738\n",
      "Epoch 22, CIFAR-10 Batch 1:  loss:0.9725532531738281 validation accuracy:0.699324369430542\n",
      "Epoch 22, CIFAR-10 Batch 2:  loss:0.8801010847091675 validation accuracy:0.7060811519622803\n",
      "Epoch 22, CIFAR-10 Batch 3:  loss:0.8284988403320312 validation accuracy:0.7500000596046448\n",
      "Epoch 22, CIFAR-10 Batch 4:  loss:0.829031229019165 validation accuracy:0.7398649454116821\n",
      "Epoch 22, CIFAR-10 Batch 5:  loss:0.8334172964096069 validation accuracy:0.7229729890823364\n",
      "Epoch 23, CIFAR-10 Batch 1:  loss:0.9544073343276978 validation accuracy:0.6959460377693176\n",
      "Epoch 23, CIFAR-10 Batch 2:  loss:0.8485710024833679 validation accuracy:0.7162162661552429\n",
      "Epoch 23, CIFAR-10 Batch 3:  loss:0.8230292797088623 validation accuracy:0.736486554145813\n",
      "Epoch 23, CIFAR-10 Batch 4:  loss:0.8207966089248657 validation accuracy:0.7263513803482056\n",
      "Epoch 23, CIFAR-10 Batch 5:  loss:0.8288637399673462 validation accuracy:0.7229729890823364\n",
      "Epoch 24, CIFAR-10 Batch 1:  loss:0.9475176930427551 validation accuracy:0.6925676465034485\n",
      "Epoch 24, CIFAR-10 Batch 2:  loss:0.8387004733085632 validation accuracy:0.7162162661552429\n",
      "Epoch 24, CIFAR-10 Batch 3:  loss:0.8215770125389099 validation accuracy:0.7195945978164673\n",
      "Epoch 24, CIFAR-10 Batch 4:  loss:0.8190063834190369 validation accuracy:0.7364864945411682\n",
      "Epoch 24, CIFAR-10 Batch 5:  loss:0.7928932309150696 validation accuracy:0.7533783912658691\n",
      "Epoch 25, CIFAR-10 Batch 1:  loss:0.9224980473518372 validation accuracy:0.7195946574211121\n",
      "Epoch 25, CIFAR-10 Batch 2:  loss:0.8101246953010559 validation accuracy:0.7263514399528503\n",
      "Epoch 25, CIFAR-10 Batch 3:  loss:0.7969927787780762 validation accuracy:0.7263513803482056\n",
      "Epoch 25, CIFAR-10 Batch 4:  loss:0.7837810516357422 validation accuracy:0.7500000596046448\n",
      "Epoch 25, CIFAR-10 Batch 5:  loss:0.7940411567687988 validation accuracy:0.7466216087341309\n",
      "Epoch 26, CIFAR-10 Batch 1:  loss:0.9002107977867126 validation accuracy:0.7128378748893738\n",
      "Epoch 26, CIFAR-10 Batch 2:  loss:0.8218727707862854 validation accuracy:0.7297297716140747\n",
      "Epoch 26, CIFAR-10 Batch 3:  loss:0.7862669229507446 validation accuracy:0.7635135650634766\n",
      "Epoch 26, CIFAR-10 Batch 4:  loss:0.788885235786438 validation accuracy:0.7500000596046448\n",
      "Epoch 26, CIFAR-10 Batch 5:  loss:0.7943392992019653 validation accuracy:0.75\n",
      "Epoch 27, CIFAR-10 Batch 1:  loss:0.9217513799667358 validation accuracy:0.6925676465034485\n",
      "Epoch 27, CIFAR-10 Batch 2:  loss:0.8186020851135254 validation accuracy:0.7229729890823364\n",
      "Epoch 27, CIFAR-10 Batch 3:  loss:0.7808619141578674 validation accuracy:0.75\n",
      "Epoch 27, CIFAR-10 Batch 4:  loss:0.7610154747962952 validation accuracy:0.7668919563293457\n",
      "Epoch 27, CIFAR-10 Batch 5:  loss:0.7708458304405212 validation accuracy:0.7364864945411682\n",
      "Epoch 28, CIFAR-10 Batch 1:  loss:0.8962788581848145 validation accuracy:0.6959459781646729\n",
      "Epoch 28, CIFAR-10 Batch 2:  loss:0.8107122778892517 validation accuracy:0.736486554145813\n",
      "Epoch 28, CIFAR-10 Batch 3:  loss:0.7684910297393799 validation accuracy:0.7331081628799438\n",
      "Epoch 28, CIFAR-10 Batch 4:  loss:0.7619044780731201 validation accuracy:0.7567568421363831\n",
      "Epoch 28, CIFAR-10 Batch 5:  loss:0.7521580457687378 validation accuracy:0.7364864945411682\n",
      "Epoch 29, CIFAR-10 Batch 1:  loss:0.878842830657959 validation accuracy:0.7094595432281494\n",
      "Epoch 29, CIFAR-10 Batch 2:  loss:0.7722309827804565 validation accuracy:0.7466216683387756\n",
      "Epoch 29, CIFAR-10 Batch 3:  loss:0.7525841593742371 validation accuracy:0.736486554145813\n",
      "Epoch 29, CIFAR-10 Batch 4:  loss:0.7419811487197876 validation accuracy:0.773648738861084\n",
      "Epoch 29, CIFAR-10 Batch 5:  loss:0.7513011693954468 validation accuracy:0.75\n",
      "Epoch 30, CIFAR-10 Batch 1:  loss:0.860074520111084 validation accuracy:0.7162163257598877\n",
      "Epoch 30, CIFAR-10 Batch 2:  loss:0.7726389169692993 validation accuracy:0.7229730486869812\n",
      "Epoch 30, CIFAR-10 Batch 3:  loss:0.7609544396400452 validation accuracy:0.7229730486869812\n",
      "Epoch 30, CIFAR-10 Batch 4:  loss:0.7434612512588501 validation accuracy:0.7601351737976074\n",
      "Epoch 30, CIFAR-10 Batch 5:  loss:0.7248254418373108 validation accuracy:0.7601351737976074\n"
     ]
    }
   ],
   "source": [
    "\"\"\"\n",
    "DON'T MODIFY ANYTHING IN THIS CELL\n",
    "\"\"\"\n",
    "save_model_path = './image_classification'\n",
    "\n",
    "print('Training...')\n",
    "with tf.Session() as sess:\n",
    "    # Initializing the variables\n",
    "    sess.run(tf.global_variables_initializer())\n",
    "    \n",
    "    # Training cycle\n",
    "    for epoch in range(epochs):\n",
    "        # Loop over all batches\n",
    "        n_batches = 5\n",
    "        for batch_i in range(1, n_batches + 1):\n",
    "            for batch_features, batch_labels in helper.load_preprocess_training_batch(batch_i, batch_size):\n",
    "                train_neural_network(sess, optimizer, keep_probability, batch_features, batch_labels)\n",
    "            print('Epoch {:>2}, CIFAR-10 Batch {}:  '.format(epoch + 1, batch_i), end='')\n",
    "            print_stats(sess, batch_features, batch_labels, cost, accuracy)\n",
    "            \n",
    "    # Save Model\n",
    "    saver = tf.train.Saver()\n",
    "    save_path = saver.save(sess, save_model_path)"
   ]
  },
  {
   "cell_type": "markdown",
   "metadata": {},
   "source": [
    "# 检查点\n",
    "\n",
    "模型已保存到本地。\n",
    "\n",
    "## 测试模型\n",
    "\n",
    "利用测试数据集测试你的模型。这将是最终的准确率。你的准确率应该高于 50%。如果没达到，请继续调整模型结构和参数。"
   ]
  },
  {
   "cell_type": "code",
   "execution_count": 216,
   "metadata": {},
   "outputs": [
    {
     "name": "stdout",
     "output_type": "stream",
     "text": [
      "Testing Accuracy: 0.6302849262952804\n",
      "\n"
     ]
    },
    {
     "data": {
      "image/png": "[encoded data removed]",
      "text/plain": [
       "<matplotlib.figure.Figure at 0x1f8d5c0c400>"
      ]
     },
     "metadata": {
      "image/png": {
       "height": 319,
       "width": 355
      }
     },
     "output_type": "display_data"
    }
   ],
   "source": [
    "\"\"\"\n",
    "DON'T MODIFY ANYTHING IN THIS CELL\n",
    "\"\"\"\n",
    "%matplotlib inline\n",
    "%config InlineBackend.figure_format = 'retina'\n",
    "\n",
    "import tensorflow as tf\n",
    "import pickle\n",
    "import helper\n",
    "import random\n",
    "\n",
    "# Set batch size if not already set\n",
    "try:\n",
    "    if batch_size:\n",
    "        pass\n",
    "except NameError:\n",
    "    batch_size = 64\n",
    "\n",
    "save_model_path = './image_classification'\n",
    "n_samples = 4\n",
    "top_n_predictions = 3\n",
    "\n",
    "def test_model():\n",
    "    \"\"\"\n",
    "    Test the saved model against the test dataset\n",
    "    \"\"\"\n",
    "\n",
    "    test_features, test_labels = pickle.load(open('preprocess_test.p', mode='rb'))\n",
    "    loaded_graph = tf.Graph()\n",
    "\n",
    "    with tf.Session(graph=loaded_graph) as sess:\n",
    "        # Load model\n",
    "        loader = tf.train.import_meta_graph(save_model_path + '.meta')\n",
    "        loader.restore(sess, save_model_path)\n",
    "\n",
    "        # Get Tensors from loaded model\n",
    "        loaded_x = loaded_graph.get_tensor_by_name('x:0')\n",
    "        loaded_y = loaded_graph.get_tensor_by_name('y:0')\n",
    "        loaded_keep_prob = loaded_graph.get_tensor_by_name('keep_prob:0')\n",
    "        loaded_logits = loaded_graph.get_tensor_by_name('logits:0')\n",
    "        loaded_acc = loaded_graph.get_tensor_by_name('accuracy:0')\n",
    "        \n",
    "        # Get accuracy in batches for memory limitations\n",
    "        test_batch_acc_total = 0\n",
    "        test_batch_count = 0\n",
    "        \n",
    "        for test_feature_batch, test_label_batch in helper.batch_features_labels(test_features, test_labels, batch_size):\n",
    "            test_batch_acc_total += sess.run(\n",
    "                loaded_acc,\n",
    "                feed_dict={loaded_x: test_feature_batch, loaded_y: test_label_batch, loaded_keep_prob: 1.0})\n",
    "            test_batch_count += 1\n",
    "\n",
    "        print('Testing Accuracy: {}\\n'.format(test_batch_acc_total/test_batch_count))\n",
    "\n",
    "        # Print Random Samples\n",
    "        random_test_features, random_test_labels = tuple(zip(*random.sample(list(zip(test_features, test_labels)), n_samples)))\n",
    "        random_test_predictions = sess.run(\n",
    "            tf.nn.top_k(tf.nn.softmax(loaded_logits), top_n_predictions),\n",
    "            feed_dict={loaded_x: random_test_features, loaded_y: random_test_labels, loaded_keep_prob: 1.0})\n",
    "        helper.display_image_predictions(random_test_features, random_test_labels, random_test_predictions)\n",
    "\n",
    "\n",
    "test_model()"
   ]
  },
  {
   "cell_type": "markdown",
   "metadata": {},
   "source": [
    "## 为何准确率只有50-80%？\n",
    "\n",
    "你可能想问，为何准确率不能更高了？首先，对于简单的 CNN 网络来说，50% 已经不低了。纯粹猜测的准确率为10%。但是，你可能注意到有人的准确率[远远超过 80%](http://rodrigob.github.io/are_we_there_yet/build/classification_datasets_results.html#43494641522d3130)。这是因为我们还没有介绍所有的神经网络知识。我们还需要掌握一些其他技巧。\n",
    "\n",
    "## 提交项目\n",
    "\n",
    "提交项目时，确保先运行所有单元，然后再保存记事本。将 notebook 文件另存为“dlnd_image_classification.ipynb”，再在目录 \"File\" -> \"Download as\" 另存为 HTML 格式。请在提交的项目中包含 “helper.py” 和 “problem_unittests.py” 文件。\n"
   ]
  }
 ],
 "metadata": {
  "kernelspec": {
   "display_name": "Python 3",
   "language": "python",
   "name": "python3"
  },
  "language_info": {
   "codemirror_mode": {
    "name": "ipython",
    "version": 3
   },
   "file_extension": ".py",
   "mimetype": "text/x-python",
   "name": "python",
   "nbconvert_exporter": "python",
   "pygments_lexer": "ipython3",
   "version": "3.5.4"
  }
 },
 "nbformat": 4,
 "nbformat_minor": 1
}
